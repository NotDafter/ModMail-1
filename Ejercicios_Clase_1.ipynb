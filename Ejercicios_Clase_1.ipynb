{
  "cells": [
    {
      "cell_type": "markdown",
      "metadata": {
        "id": "view-in-github",
        "colab_type": "text"
      },
      "source": [
        "<a href=\"https://colab.research.google.com/github/NotDafter/ModMail-1/blob/master/Ejercicios_Clase_1.ipynb\" target=\"_parent\"><img src=\"https://colab.research.google.com/assets/colab-badge.svg\" alt=\"Open In Colab\"/></a>"
      ]
    },
    {
      "cell_type": "markdown",
      "id": "corresponding-webster",
      "metadata": {
        "id": "corresponding-webster"
      },
      "source": [
        "#### Ejercicios para practicar\n",
        "\n",
        "Si querés seguir practicando las estructuras de datos que vimos en la clase, las Listas y los Diccionarios, animate a hacer estos ejercicios:"
      ]
    },
    {
      "cell_type": "markdown",
      "id": "forbidden-jefferson",
      "metadata": {
        "id": "forbidden-jefferson"
      },
      "source": [
        "1. Armá una lista con 6 ciudades"
      ]
    },
    {
      "cell_type": "code",
      "execution_count": 2,
      "id": "blocked-accountability",
      "metadata": {
        "id": "blocked-accountability"
      },
      "outputs": [],
      "source": [
        "cuidades=[\"Buenos Aires\",\"Córdoba\",\"Mendoza\",\"La Plata\",\"Salta\"]"
      ]
    },
    {
      "cell_type": "markdown",
      "id": "upper-craft",
      "metadata": {
        "id": "upper-craft"
      },
      "source": [
        "2. Seleccioná la segunda ciudad"
      ]
    },
    {
      "cell_type": "code",
      "execution_count": 5,
      "id": "amino-uncertainty",
      "metadata": {
        "id": "amino-uncertainty",
        "colab": {
          "base_uri": "https://localhost:8080/",
          "height": 36
        },
        "outputId": "6e8db611-7925-4b56-eddc-be1372576995"
      },
      "outputs": [
        {
          "output_type": "execute_result",
          "data": {
            "text/plain": [
              "'Córdoba'"
            ],
            "application/vnd.google.colaboratory.intrinsic+json": {
              "type": "string"
            }
          },
          "metadata": {},
          "execution_count": 5
        }
      ],
      "source": [
        "cuidades[1]"
      ]
    },
    {
      "cell_type": "markdown",
      "id": "genuine-usage",
      "metadata": {
        "id": "genuine-usage"
      },
      "source": [
        "3. Eliminá la última ciudad"
      ]
    },
    {
      "cell_type": "code",
      "execution_count": null,
      "id": "little-cholesterol",
      "metadata": {
        "id": "little-cholesterol"
      },
      "outputs": [],
      "source": [
        "remove(4)"
      ]
    },
    {
      "cell_type": "markdown",
      "id": "civil-joyce",
      "metadata": {
        "id": "civil-joyce"
      },
      "source": [
        "4. Reemplazá la primer ciudad con otra"
      ]
    },
    {
      "cell_type": "code",
      "execution_count": null,
      "id": "middle-planet",
      "metadata": {
        "id": "middle-planet"
      },
      "outputs": [],
      "source": [
        "ciudades[0]=\"San Bernardo\""
      ]
    },
    {
      "cell_type": "markdown",
      "id": "statistical-italy",
      "metadata": {
        "id": "statistical-italy"
      },
      "source": [
        "5. Agregá una ciudad al final"
      ]
    },
    {
      "cell_type": "code",
      "execution_count": null,
      "id": "overall-battlefield",
      "metadata": {
        "id": "overall-battlefield"
      },
      "outputs": [],
      "source": [
        "ciudades.append(\"Mar del Tuyú\")"
      ]
    },
    {
      "cell_type": "markdown",
      "id": "mechanical-junction",
      "metadata": {
        "id": "mechanical-junction"
      },
      "source": [
        "6. Armá un diccionario que tenga 3 duplas de Provincia y Ciudad (ej: \"Provincia de Buenos Aires: La Plata\") - optativo"
      ]
    },
    {
      "cell_type": "code",
      "execution_count": null,
      "id": "funny-disability",
      "metadata": {
        "id": "funny-disability"
      },
      "outputs": [],
      "source": []
    },
    {
      "cell_type": "markdown",
      "id": "reserved-office",
      "metadata": {
        "id": "reserved-office"
      },
      "source": [
        "7. Eliminá el último registro (dupla Ciudad-Provincia) - optativo"
      ]
    },
    {
      "cell_type": "code",
      "execution_count": null,
      "id": "intermediate-material",
      "metadata": {
        "id": "intermediate-material"
      },
      "outputs": [],
      "source": []
    },
    {
      "cell_type": "markdown",
      "id": "polished-raleigh",
      "metadata": {
        "id": "polished-raleigh"
      },
      "source": [
        "8. Ejecutá un código que devuelva todas las claves (*keys*) - optativo"
      ]
    },
    {
      "cell_type": "code",
      "execution_count": null,
      "id": "indoor-reserve",
      "metadata": {
        "id": "indoor-reserve"
      },
      "outputs": [],
      "source": []
    }
  ],
  "metadata": {
    "kernelspec": {
      "display_name": "Python 3",
      "language": "python",
      "name": "python3"
    },
    "language_info": {
      "codemirror_mode": {
        "name": "ipython",
        "version": 3
      },
      "file_extension": ".py",
      "mimetype": "text/x-python",
      "name": "python",
      "nbconvert_exporter": "python",
      "pygments_lexer": "ipython3",
      "version": "3.7.10"
    },
    "colab": {
      "provenance": [],
      "include_colab_link": true
    }
  },
  "nbformat": 4,
  "nbformat_minor": 5
}